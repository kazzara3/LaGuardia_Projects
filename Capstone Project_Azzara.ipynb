{
 "cells": [
  {
   "cell_type": "code",
   "execution_count": 540,
   "id": "d770f725-bcf5-42f8-b76b-e9f2857970c4",
   "metadata": {},
   "outputs": [
    {
     "name": "stderr",
     "output_type": "stream",
     "text": [
      "C:\\Users\\katri\\AppData\\Local\\Temp\\ipykernel_21424\\2248697632.py:3: DtypeWarning: Columns (5,6,8,9) have mixed types. Specify dtype option on import or set low_memory=False.\n",
      "  df = pd.read_csv('ENDGBV__The_Intersection_of_Domestic_Violence__Race_Ethnicity_and_Sex_20250521 (1).csv')\n"
     ]
    }
   ],
   "source": [
    "#importing data\n",
    "import pandas as pd\n",
    "df = pd.read_csv('ENDGBV__The_Intersection_of_Domestic_Violence__Race_Ethnicity_and_Sex_20250521 (1).csv')"
   ]
  },
  {
   "cell_type": "code",
   "execution_count": 541,
   "id": "32bd3710-da09-42e6-b55f-bee4603ae669",
   "metadata": {},
   "outputs": [],
   "source": [
    "#import seaborn, numpy and matplotlib\n",
    "import seaborn as sns\n",
    "import numpy as np\n",
    "import matplotlib.pyplot as plt"
   ]
  },
  {
   "cell_type": "code",
   "execution_count": 542,
   "id": "4e456ca6-0308-41cc-b53a-78326f9eb9f0",
   "metadata": {},
   "outputs": [
    {
     "data": {
      "text/plain": [
       "Index(['Offense Type', 'Report Date', 'Incident Precinct Code', 'Borough Name',\n",
       "       'Intimate Relationship Flag', 'Victim Race', 'Victim Sex',\n",
       "       'Victim Reported Age', 'Suspect Race', 'Suspect Sex',\n",
       "       'Suspect Reported Age', 'COMMDIST', 'Poverty', 'Median Income',\n",
       "       'Unemployment'],\n",
       "      dtype='object')"
      ]
     },
     "execution_count": 542,
     "metadata": {},
     "output_type": "execute_result"
    }
   ],
   "source": [
    "#Preliminary review of data\n",
    "df.columns"
   ]
  },
  {
   "cell_type": "code",
   "execution_count": 543,
   "id": "e5c3c7cf-7e2b-40bc-82cf-e9bc73eb5c16",
   "metadata": {},
   "outputs": [
    {
     "name": "stdout",
     "output_type": "stream",
     "text": [
      "<class 'pandas.core.frame.DataFrame'>\n",
      "RangeIndex: 483790 entries, 0 to 483789\n",
      "Data columns (total 15 columns):\n",
      " #   Column                      Non-Null Count   Dtype  \n",
      "---  ------                      --------------   -----  \n",
      " 0   Offense Type                483790 non-null  object \n",
      " 1   Report Date                 483790 non-null  object \n",
      " 2   Incident Precinct Code      483790 non-null  int64  \n",
      " 3   Borough Name                483790 non-null  object \n",
      " 4   Intimate Relationship Flag  483790 non-null  object \n",
      " 5   Victim Race                 387733 non-null  object \n",
      " 6   Victim Sex                  394987 non-null  object \n",
      " 7   Victim Reported Age         344524 non-null  float64\n",
      " 8   Suspect Race                367160 non-null  object \n",
      " 9   Suspect Sex                 374345 non-null  object \n",
      " 10  Suspect Reported Age        300802 non-null  float64\n",
      " 11  COMMDIST                    483686 non-null  float64\n",
      " 12  Poverty                     202325 non-null  float64\n",
      " 13  Median Income               209141 non-null  float64\n",
      " 14  Unemployment                201911 non-null  float64\n",
      "dtypes: float64(6), int64(1), object(8)\n",
      "memory usage: 55.4+ MB\n",
      "None\n"
     ]
    }
   ],
   "source": [
    "print(df.info())"
   ]
  },
  {
   "cell_type": "code",
   "execution_count": 544,
   "id": "97ec8221-06df-4962-bc9d-c48f6c9d4956",
   "metadata": {},
   "outputs": [
    {
     "name": "stdout",
     "output_type": "stream",
     "text": [
      "  Offense Type Report Date  Incident Precinct Code Borough Name  \\\n",
      "0          DIR  12/23/2020                       5    MANHATTAN   \n",
      "1          DIR  01/08/2020                       7    MANHATTAN   \n",
      "2          DIR  04/05/2020                       5    MANHATTAN   \n",
      "3          DIR  01/01/2021                      10    MANHATTAN   \n",
      "4          DIR  01/10/2021                      10    MANHATTAN   \n",
      "\n",
      "  Intimate Relationship Flag Victim Race Victim Sex  Victim Reported Age  \\\n",
      "0                    MISSING       WHITE     FEMALE                  NaN   \n",
      "1                        YES       WHITE       MALE                  NaN   \n",
      "2                    MISSING       WHITE       MALE                  NaN   \n",
      "3                         NO       WHITE        NaN                  NaN   \n",
      "4                         NO       WHITE     FEMALE                  NaN   \n",
      "\n",
      "  Suspect Race Suspect Sex  Suspect Reported Age  COMMDIST  Poverty  \\\n",
      "0        OTHER         NaN                   NaN     103.0      1.0   \n",
      "1        WHITE      FEMALE                   NaN     103.0      1.0   \n",
      "2        WHITE         NaN                   NaN     103.0      1.0   \n",
      "3        WHITE         NaN                   NaN     104.0      NaN   \n",
      "4        OTHER        MALE                   NaN     104.0      NaN   \n",
      "\n",
      "   Median Income  Unemployment  \n",
      "0            1.0           NaN  \n",
      "1            1.0           NaN  \n",
      "2            1.0           NaN  \n",
      "3            NaN           NaN  \n",
      "4            NaN           NaN  \n"
     ]
    }
   ],
   "source": [
    "print(df.head())"
   ]
  },
  {
   "cell_type": "code",
   "execution_count": 545,
   "id": "e3e71312-4173-45d8-8f52-31db262163a3",
   "metadata": {},
   "outputs": [],
   "source": [
    "#Data Cleaning: Dropping columns that will not be used in my analysis\n",
    "\n",
    "drop_cols=['Incident Precinct Code', 'Suspect Race','Suspect Sex', 'Suspect Reported Age', 'Victim Reported Age', 'Median Income', 'Unemployment']\n",
    "df.drop(drop_cols, inplace=True,axis=1)"
   ]
  },
  {
   "cell_type": "code",
   "execution_count": 546,
   "id": "e1b00ed5-cb28-4319-9746-819b450ae1f8",
   "metadata": {},
   "outputs": [],
   "source": [
    "#Adding ID column\n",
    "df[\"ID\"] = df.index"
   ]
  },
  {
   "cell_type": "code",
   "execution_count": 547,
   "id": "67a67f61-33c4-4e56-909c-bfc03acbe276",
   "metadata": {},
   "outputs": [
    {
     "data": {
      "text/plain": [
       "Index(['Offense Type', 'Report Date', 'Borough Name',\n",
       "       'Intimate Relationship Flag', 'Victim Race', 'Victim Sex', 'COMMDIST',\n",
       "       'Poverty', 'ID'],\n",
       "      dtype='object')"
      ]
     },
     "execution_count": 547,
     "metadata": {},
     "output_type": "execute_result"
    }
   ],
   "source": [
    "#Confirming addition of ID column and dropping of columns that will not be used\n",
    "df.columns"
   ]
  },
  {
   "cell_type": "code",
   "execution_count": 548,
   "id": "1afbf4d7-4ea4-4680-a9b6-44d7182ecc84",
   "metadata": {},
   "outputs": [
    {
     "name": "stdout",
     "output_type": "stream",
     "text": [
      "  Offense Type Report Date Borough Name Intimate Relationship Flag  \\\n",
      "0          DIR  12/23/2020    MANHATTAN                    MISSING   \n",
      "1          DIR  01/08/2020    MANHATTAN                        YES   \n",
      "2          DIR  04/05/2020    MANHATTAN                    MISSING   \n",
      "3          DIR  01/01/2021    MANHATTAN                         NO   \n",
      "4          DIR  01/10/2021    MANHATTAN                         NO   \n",
      "\n",
      "  Victim Race Victim Sex  COMMDIST  Poverty  ID  \n",
      "0       WHITE     FEMALE     103.0      1.0   0  \n",
      "1       WHITE       MALE     103.0      1.0   1  \n",
      "2       WHITE       MALE     103.0      1.0   2  \n",
      "3       WHITE        NaN     104.0      NaN   3  \n",
      "4       WHITE     FEMALE     104.0      NaN   4  \n"
     ]
    }
   ],
   "source": [
    "print(df.head())"
   ]
  },
  {
   "cell_type": "code",
   "execution_count": 549,
   "id": "ef16d3dd-bd86-498a-9beb-55eb4e523f27",
   "metadata": {},
   "outputs": [],
   "source": [
    "#Inital Cleaning: Report Date \n",
    "df[\"Report Date\"]=pd.to_datetime(df[\"Report Date\"])\n",
    "\n",
    "date = df[\"Report Date\"]"
   ]
  },
  {
   "cell_type": "code",
   "execution_count": 550,
   "id": "02c1f5e3-a2af-4575-924d-4d269d42f3c2",
   "metadata": {},
   "outputs": [],
   "source": [
    "df['Year']=df['Report Date'].dt.year"
   ]
  },
  {
   "cell_type": "code",
   "execution_count": 551,
   "id": "1f23d852-e97f-4f57-b6f7-28e4ca7e67fe",
   "metadata": {},
   "outputs": [],
   "source": [
    "df['Month']=df['Report Date'].dt.month"
   ]
  },
  {
   "cell_type": "code",
   "execution_count": 552,
   "id": "42839c1e-f579-4c1d-bc13-fa0ea49e694e",
   "metadata": {},
   "outputs": [
    {
     "name": "stdout",
     "output_type": "stream",
     "text": [
      "<class 'pandas.core.frame.DataFrame'>\n",
      "RangeIndex: 483790 entries, 0 to 483789\n",
      "Data columns (total 11 columns):\n",
      " #   Column                      Non-Null Count   Dtype         \n",
      "---  ------                      --------------   -----         \n",
      " 0   Offense Type                483790 non-null  object        \n",
      " 1   Report Date                 483790 non-null  datetime64[ns]\n",
      " 2   Borough Name                483790 non-null  object        \n",
      " 3   Intimate Relationship Flag  483790 non-null  object        \n",
      " 4   Victim Race                 387733 non-null  object        \n",
      " 5   Victim Sex                  394987 non-null  object        \n",
      " 6   COMMDIST                    483686 non-null  float64       \n",
      " 7   Poverty                     202325 non-null  float64       \n",
      " 8   ID                          483790 non-null  int64         \n",
      " 9   Year                        483790 non-null  int32         \n",
      " 10  Month                       483790 non-null  int32         \n",
      "dtypes: datetime64[ns](1), float64(2), int32(2), int64(1), object(5)\n",
      "memory usage: 36.9+ MB\n",
      "None\n"
     ]
    }
   ],
   "source": [
    "print(df.info())"
   ]
  },
  {
   "cell_type": "code",
   "execution_count": 553,
   "id": "5a0f5962-37c9-40f2-a76d-f3816a36f83e",
   "metadata": {},
   "outputs": [
    {
     "data": {
      "text/html": [
       "<div>\n",
       "<style scoped>\n",
       "    .dataframe tbody tr th:only-of-type {\n",
       "        vertical-align: middle;\n",
       "    }\n",
       "\n",
       "    .dataframe tbody tr th {\n",
       "        vertical-align: top;\n",
       "    }\n",
       "\n",
       "    .dataframe thead th {\n",
       "        text-align: right;\n",
       "    }\n",
       "</style>\n",
       "<table border=\"1\" class=\"dataframe\">\n",
       "  <thead>\n",
       "    <tr style=\"text-align: right;\">\n",
       "      <th></th>\n",
       "      <th>ID</th>\n",
       "    </tr>\n",
       "    <tr>\n",
       "      <th>Year</th>\n",
       "      <th></th>\n",
       "    </tr>\n",
       "  </thead>\n",
       "  <tbody>\n",
       "    <tr>\n",
       "      <th>2020</th>\n",
       "      <td>242040</td>\n",
       "    </tr>\n",
       "    <tr>\n",
       "      <th>2021</th>\n",
       "      <td>241748</td>\n",
       "    </tr>\n",
       "    <tr>\n",
       "      <th>2019</th>\n",
       "      <td>2</td>\n",
       "    </tr>\n",
       "  </tbody>\n",
       "</table>\n",
       "</div>"
      ],
      "text/plain": [
       "          ID\n",
       "Year        \n",
       "2020  242040\n",
       "2021  241748\n",
       "2019       2"
      ]
     },
     "execution_count": 553,
     "metadata": {},
     "output_type": "execute_result"
    }
   ],
   "source": [
    "#Exploratroy Analysis: 2020 to 2021\n",
    "df[[\"ID\", \"Year\"]].groupby(\"Year\").count().sort_values('ID',ascending=False)"
   ]
  },
  {
   "cell_type": "code",
   "execution_count": 554,
   "id": "4d2aab9d-6dfc-4a7a-b665-ace185698929",
   "metadata": {},
   "outputs": [],
   "source": [
    "year_to_remove = 2019\n",
    "df = df[df['Report Date'].dt.year != year_to_remove]"
   ]
  },
  {
   "cell_type": "code",
   "execution_count": 555,
   "id": "a367db92-0cde-4412-a2b0-0ce06e143b0d",
   "metadata": {},
   "outputs": [
    {
     "data": {
      "text/html": [
       "<div>\n",
       "<style scoped>\n",
       "    .dataframe tbody tr th:only-of-type {\n",
       "        vertical-align: middle;\n",
       "    }\n",
       "\n",
       "    .dataframe tbody tr th {\n",
       "        vertical-align: top;\n",
       "    }\n",
       "\n",
       "    .dataframe thead th {\n",
       "        text-align: right;\n",
       "    }\n",
       "</style>\n",
       "<table border=\"1\" class=\"dataframe\">\n",
       "  <thead>\n",
       "    <tr style=\"text-align: right;\">\n",
       "      <th></th>\n",
       "      <th>ID</th>\n",
       "    </tr>\n",
       "    <tr>\n",
       "      <th>Intimate Relationship Flag</th>\n",
       "      <th></th>\n",
       "    </tr>\n",
       "  </thead>\n",
       "  <tbody>\n",
       "    <tr>\n",
       "      <th>YES</th>\n",
       "      <td>218892</td>\n",
       "    </tr>\n",
       "    <tr>\n",
       "      <th>NO</th>\n",
       "      <td>151574</td>\n",
       "    </tr>\n",
       "    <tr>\n",
       "      <th>MISSING</th>\n",
       "      <td>94440</td>\n",
       "    </tr>\n",
       "    <tr>\n",
       "      <th>Yes</th>\n",
       "      <td>12149</td>\n",
       "    </tr>\n",
       "    <tr>\n",
       "      <th>No</th>\n",
       "      <td>6733</td>\n",
       "    </tr>\n",
       "  </tbody>\n",
       "</table>\n",
       "</div>"
      ],
      "text/plain": [
       "                                ID\n",
       "Intimate Relationship Flag        \n",
       "YES                         218892\n",
       "NO                          151574\n",
       "MISSING                      94440\n",
       "Yes                          12149\n",
       "No                            6733"
      ]
     },
     "execution_count": 555,
     "metadata": {},
     "output_type": "execute_result"
    }
   ],
   "source": [
    "df[[\"ID\", \"Intimate Relationship Flag\"]].groupby(\"Intimate Relationship Flag\").count().sort_values('ID',ascending=False)"
   ]
  },
  {
   "cell_type": "code",
   "execution_count": 556,
   "id": "59c84d0b-1225-43e0-80cb-b19753c739cc",
   "metadata": {},
   "outputs": [],
   "source": [
    "#Cleaning Inimate Relationship Flag Column which has a combination of uppercase and lowercase, yes/no responses - so that the responses are all uppercase \n",
    "\n",
    "df[\"Intimate Relationship Flag\"]=df[\"Intimate Relationship Flag\"].str.upper()"
   ]
  },
  {
   "cell_type": "code",
   "execution_count": 557,
   "id": "7721b791-65da-43e9-96ed-92c37df7c2a7",
   "metadata": {},
   "outputs": [
    {
     "data": {
      "text/html": [
       "<div>\n",
       "<style scoped>\n",
       "    .dataframe tbody tr th:only-of-type {\n",
       "        vertical-align: middle;\n",
       "    }\n",
       "\n",
       "    .dataframe tbody tr th {\n",
       "        vertical-align: top;\n",
       "    }\n",
       "\n",
       "    .dataframe thead th {\n",
       "        text-align: right;\n",
       "    }\n",
       "</style>\n",
       "<table border=\"1\" class=\"dataframe\">\n",
       "  <thead>\n",
       "    <tr style=\"text-align: right;\">\n",
       "      <th></th>\n",
       "      <th>ID</th>\n",
       "    </tr>\n",
       "    <tr>\n",
       "      <th>Intimate Relationship Flag</th>\n",
       "      <th></th>\n",
       "    </tr>\n",
       "  </thead>\n",
       "  <tbody>\n",
       "    <tr>\n",
       "      <th>YES</th>\n",
       "      <td>231041</td>\n",
       "    </tr>\n",
       "    <tr>\n",
       "      <th>NO</th>\n",
       "      <td>158307</td>\n",
       "    </tr>\n",
       "    <tr>\n",
       "      <th>MISSING</th>\n",
       "      <td>94440</td>\n",
       "    </tr>\n",
       "  </tbody>\n",
       "</table>\n",
       "</div>"
      ],
      "text/plain": [
       "                                ID\n",
       "Intimate Relationship Flag        \n",
       "YES                         231041\n",
       "NO                          158307\n",
       "MISSING                      94440"
      ]
     },
     "execution_count": 557,
     "metadata": {},
     "output_type": "execute_result"
    }
   ],
   "source": [
    "#Confirming cleaned variable\n",
    "df[[\"ID\", \"Intimate Relationship Flag\"]].groupby(\"Intimate Relationship Flag\").count().sort_values('ID',ascending=False)"
   ]
  },
  {
   "cell_type": "code",
   "execution_count": 558,
   "id": "d4cc748a-7ec1-4b66-b98c-89c2039acc52",
   "metadata": {},
   "outputs": [
    {
     "data": {
      "text/html": [
       "<div>\n",
       "<style scoped>\n",
       "    .dataframe tbody tr th:only-of-type {\n",
       "        vertical-align: middle;\n",
       "    }\n",
       "\n",
       "    .dataframe tbody tr th {\n",
       "        vertical-align: top;\n",
       "    }\n",
       "\n",
       "    .dataframe thead th {\n",
       "        text-align: right;\n",
       "    }\n",
       "</style>\n",
       "<table border=\"1\" class=\"dataframe\">\n",
       "  <thead>\n",
       "    <tr style=\"text-align: right;\">\n",
       "      <th></th>\n",
       "      <th>ID</th>\n",
       "    </tr>\n",
       "    <tr>\n",
       "      <th>Victim Race</th>\n",
       "      <th></th>\n",
       "    </tr>\n",
       "  </thead>\n",
       "  <tbody>\n",
       "    <tr>\n",
       "      <th>BLACK</th>\n",
       "      <td>195836</td>\n",
       "    </tr>\n",
       "    <tr>\n",
       "      <th>WHITE</th>\n",
       "      <td>121103</td>\n",
       "    </tr>\n",
       "    <tr>\n",
       "      <th>OTHER</th>\n",
       "      <td>41757</td>\n",
       "    </tr>\n",
       "    <tr>\n",
       "      <th>ASIAN / PACIFIC ISLANDER</th>\n",
       "      <td>20730</td>\n",
       "    </tr>\n",
       "    <tr>\n",
       "      <th>WHITE HISPANIC</th>\n",
       "      <td>5312</td>\n",
       "    </tr>\n",
       "    <tr>\n",
       "      <th>AMERICAN INDIAN/ALASKAN NATIVE</th>\n",
       "      <td>1709</td>\n",
       "    </tr>\n",
       "    <tr>\n",
       "      <th>BLACK HISPANIC</th>\n",
       "      <td>1284</td>\n",
       "    </tr>\n",
       "  </tbody>\n",
       "</table>\n",
       "</div>"
      ],
      "text/plain": [
       "                                    ID\n",
       "Victim Race                           \n",
       "BLACK                           195836\n",
       "WHITE                           121103\n",
       "OTHER                            41757\n",
       "ASIAN / PACIFIC ISLANDER         20730\n",
       "WHITE HISPANIC                    5312\n",
       "AMERICAN INDIAN/ALASKAN NATIVE    1709\n",
       "BLACK HISPANIC                    1284"
      ]
     },
     "execution_count": 558,
     "metadata": {},
     "output_type": "execute_result"
    }
   ],
   "source": [
    "#Victim Race\n",
    "df[[\"ID\", \"Victim Race\"]].groupby(\"Victim Race\").count().sort_values('ID',ascending=False)"
   ]
  },
  {
   "cell_type": "code",
   "execution_count": 559,
   "id": "0665f865-2590-4ecd-8546-b13d007c6e79",
   "metadata": {},
   "outputs": [],
   "source": [
    "#Cleaning Race Column so that \"White Hispanic and Black Hispanic\" are grouped into one category: Hispanic\n",
    "\n",
    "df=df.rename(columns={'Victim Race':'Victim_Race'})\n",
    "\n",
    "\n",
    "Victim_race_recode= {'BLACK':'BLACK','WHITE':'WHITE','OTHER':'OTHER', '0':'0','ASIAN / PACIFIC ISLANDER':'ASIAN / PACIFIC ISLANDER','WHITE HISPANIC':'HISPANIC',\n",
    "'AMERICAN INDIAN/ALASKAN NATIVE':'AMERICAN INDIAN/ALASKAN NATIVE', 'BLACK HISPANIC':'HISPANIC'}\n"
   ]
  },
  {
   "cell_type": "code",
   "execution_count": 560,
   "id": "50d85e60-6461-47df-bac6-b777c68019a0",
   "metadata": {},
   "outputs": [],
   "source": [
    "df=df.assign(Victim_Race_Recoded=df.Victim_Race.map(Victim_race_recode))"
   ]
  },
  {
   "cell_type": "code",
   "execution_count": 561,
   "id": "b39a50f1-3fcc-4053-85c4-083c177c85df",
   "metadata": {},
   "outputs": [
    {
     "data": {
      "text/html": [
       "<div>\n",
       "<style scoped>\n",
       "    .dataframe tbody tr th:only-of-type {\n",
       "        vertical-align: middle;\n",
       "    }\n",
       "\n",
       "    .dataframe tbody tr th {\n",
       "        vertical-align: top;\n",
       "    }\n",
       "\n",
       "    .dataframe thead th {\n",
       "        text-align: right;\n",
       "    }\n",
       "</style>\n",
       "<table border=\"1\" class=\"dataframe\">\n",
       "  <thead>\n",
       "    <tr style=\"text-align: right;\">\n",
       "      <th></th>\n",
       "      <th>ID</th>\n",
       "    </tr>\n",
       "    <tr>\n",
       "      <th>Victim_Race_Recoded</th>\n",
       "      <th></th>\n",
       "    </tr>\n",
       "  </thead>\n",
       "  <tbody>\n",
       "    <tr>\n",
       "      <th>BLACK</th>\n",
       "      <td>195836</td>\n",
       "    </tr>\n",
       "    <tr>\n",
       "      <th>WHITE</th>\n",
       "      <td>121103</td>\n",
       "    </tr>\n",
       "    <tr>\n",
       "      <th>OTHER</th>\n",
       "      <td>41757</td>\n",
       "    </tr>\n",
       "    <tr>\n",
       "      <th>ASIAN / PACIFIC ISLANDER</th>\n",
       "      <td>20730</td>\n",
       "    </tr>\n",
       "    <tr>\n",
       "      <th>HISPANIC</th>\n",
       "      <td>6596</td>\n",
       "    </tr>\n",
       "    <tr>\n",
       "      <th>AMERICAN INDIAN/ALASKAN NATIVE</th>\n",
       "      <td>1709</td>\n",
       "    </tr>\n",
       "  </tbody>\n",
       "</table>\n",
       "</div>"
      ],
      "text/plain": [
       "                                    ID\n",
       "Victim_Race_Recoded                   \n",
       "BLACK                           195836\n",
       "WHITE                           121103\n",
       "OTHER                            41757\n",
       "ASIAN / PACIFIC ISLANDER         20730\n",
       "HISPANIC                          6596\n",
       "AMERICAN INDIAN/ALASKAN NATIVE    1709"
      ]
     },
     "execution_count": 561,
     "metadata": {},
     "output_type": "execute_result"
    }
   ],
   "source": [
    "df[[\"ID\", \"Victim_Race_Recoded\"]].groupby(\"Victim_Race_Recoded\").count().sort_values('ID',ascending=False)"
   ]
  },
  {
   "cell_type": "code",
   "execution_count": 562,
   "id": "53da72c3-cfb3-44c9-b3b6-db4db3379d33",
   "metadata": {},
   "outputs": [
    {
     "data": {
      "text/html": [
       "<div>\n",
       "<style scoped>\n",
       "    .dataframe tbody tr th:only-of-type {\n",
       "        vertical-align: middle;\n",
       "    }\n",
       "\n",
       "    .dataframe tbody tr th {\n",
       "        vertical-align: top;\n",
       "    }\n",
       "\n",
       "    .dataframe thead th {\n",
       "        text-align: right;\n",
       "    }\n",
       "</style>\n",
       "<table border=\"1\" class=\"dataframe\">\n",
       "  <thead>\n",
       "    <tr style=\"text-align: right;\">\n",
       "      <th></th>\n",
       "      <th>ID</th>\n",
       "    </tr>\n",
       "    <tr>\n",
       "      <th>Offense Type</th>\n",
       "      <th></th>\n",
       "    </tr>\n",
       "  </thead>\n",
       "  <tbody>\n",
       "    <tr>\n",
       "      <th>DIR</th>\n",
       "      <td>464906</td>\n",
       "    </tr>\n",
       "    <tr>\n",
       "      <th>FELONY ASSAULT</th>\n",
       "      <td>17637</td>\n",
       "    </tr>\n",
       "    <tr>\n",
       "      <th>RAPE</th>\n",
       "      <td>1245</td>\n",
       "    </tr>\n",
       "  </tbody>\n",
       "</table>\n",
       "</div>"
      ],
      "text/plain": [
       "                    ID\n",
       "Offense Type          \n",
       "DIR             464906\n",
       "FELONY ASSAULT   17637\n",
       "RAPE              1245"
      ]
     },
     "execution_count": 562,
     "metadata": {},
     "output_type": "execute_result"
    }
   ],
   "source": [
    "#Descriptive Stats on Categorical Variables: 2020 to 2021\n",
    "\n",
    "df[[\"ID\", \"Offense Type\"]].groupby(\"Offense Type\").count().sort_values('ID',ascending=False)"
   ]
  },
  {
   "cell_type": "code",
   "execution_count": 563,
   "id": "f39c69f1-cd8d-4f9b-b40a-84b2779dc4b5",
   "metadata": {},
   "outputs": [
    {
     "data": {
      "text/html": [
       "<div>\n",
       "<style scoped>\n",
       "    .dataframe tbody tr th:only-of-type {\n",
       "        vertical-align: middle;\n",
       "    }\n",
       "\n",
       "    .dataframe tbody tr th {\n",
       "        vertical-align: top;\n",
       "    }\n",
       "\n",
       "    .dataframe thead th {\n",
       "        text-align: right;\n",
       "    }\n",
       "</style>\n",
       "<table border=\"1\" class=\"dataframe\">\n",
       "  <thead>\n",
       "    <tr style=\"text-align: right;\">\n",
       "      <th></th>\n",
       "      <th>ID</th>\n",
       "    </tr>\n",
       "    <tr>\n",
       "      <th>Borough Name</th>\n",
       "      <th></th>\n",
       "    </tr>\n",
       "  </thead>\n",
       "  <tbody>\n",
       "    <tr>\n",
       "      <th>BRONX</th>\n",
       "      <td>144222</td>\n",
       "    </tr>\n",
       "    <tr>\n",
       "      <th>BROOKLYN</th>\n",
       "      <td>141198</td>\n",
       "    </tr>\n",
       "    <tr>\n",
       "      <th>QUEENS</th>\n",
       "      <td>102030</td>\n",
       "    </tr>\n",
       "    <tr>\n",
       "      <th>MANHATTAN</th>\n",
       "      <td>72103</td>\n",
       "    </tr>\n",
       "    <tr>\n",
       "      <th>STATEN ISLAND</th>\n",
       "      <td>24235</td>\n",
       "    </tr>\n",
       "  </tbody>\n",
       "</table>\n",
       "</div>"
      ],
      "text/plain": [
       "                   ID\n",
       "Borough Name         \n",
       "BRONX          144222\n",
       "BROOKLYN       141198\n",
       "QUEENS         102030\n",
       "MANHATTAN       72103\n",
       "STATEN ISLAND   24235"
      ]
     },
     "execution_count": 563,
     "metadata": {},
     "output_type": "execute_result"
    }
   ],
   "source": [
    "df[[\"ID\", \"Borough Name\"]].groupby(\"Borough Name\").count().sort_values('ID',ascending=False)"
   ]
  },
  {
   "cell_type": "code",
   "execution_count": 564,
   "id": "eec3136a-9ebd-446f-aead-29b5520ef225",
   "metadata": {},
   "outputs": [
    {
     "data": {
      "text/html": [
       "<div>\n",
       "<style scoped>\n",
       "    .dataframe tbody tr th:only-of-type {\n",
       "        vertical-align: middle;\n",
       "    }\n",
       "\n",
       "    .dataframe tbody tr th {\n",
       "        vertical-align: top;\n",
       "    }\n",
       "\n",
       "    .dataframe thead th {\n",
       "        text-align: right;\n",
       "    }\n",
       "</style>\n",
       "<table border=\"1\" class=\"dataframe\">\n",
       "  <thead>\n",
       "    <tr style=\"text-align: right;\">\n",
       "      <th></th>\n",
       "      <th>ID</th>\n",
       "    </tr>\n",
       "    <tr>\n",
       "      <th>Intimate Relationship Flag</th>\n",
       "      <th></th>\n",
       "    </tr>\n",
       "  </thead>\n",
       "  <tbody>\n",
       "    <tr>\n",
       "      <th>YES</th>\n",
       "      <td>231041</td>\n",
       "    </tr>\n",
       "    <tr>\n",
       "      <th>NO</th>\n",
       "      <td>158307</td>\n",
       "    </tr>\n",
       "    <tr>\n",
       "      <th>MISSING</th>\n",
       "      <td>94440</td>\n",
       "    </tr>\n",
       "  </tbody>\n",
       "</table>\n",
       "</div>"
      ],
      "text/plain": [
       "                                ID\n",
       "Intimate Relationship Flag        \n",
       "YES                         231041\n",
       "NO                          158307\n",
       "MISSING                      94440"
      ]
     },
     "execution_count": 564,
     "metadata": {},
     "output_type": "execute_result"
    }
   ],
   "source": [
    "df[[\"ID\", \"Intimate Relationship Flag\"]].groupby(\"Intimate Relationship Flag\").count().sort_values('ID',ascending=False)"
   ]
  },
  {
   "cell_type": "code",
   "execution_count": 565,
   "id": "26d79a38-b0ba-45b3-9f64-0fd60dd3cb4c",
   "metadata": {},
   "outputs": [
    {
     "data": {
      "text/html": [
       "<div>\n",
       "<style scoped>\n",
       "    .dataframe tbody tr th:only-of-type {\n",
       "        vertical-align: middle;\n",
       "    }\n",
       "\n",
       "    .dataframe tbody tr th {\n",
       "        vertical-align: top;\n",
       "    }\n",
       "\n",
       "    .dataframe thead th {\n",
       "        text-align: right;\n",
       "    }\n",
       "</style>\n",
       "<table border=\"1\" class=\"dataframe\">\n",
       "  <thead>\n",
       "    <tr style=\"text-align: right;\">\n",
       "      <th></th>\n",
       "      <th>ID</th>\n",
       "    </tr>\n",
       "    <tr>\n",
       "      <th>Victim_Race_Recoded</th>\n",
       "      <th></th>\n",
       "    </tr>\n",
       "  </thead>\n",
       "  <tbody>\n",
       "    <tr>\n",
       "      <th>BLACK</th>\n",
       "      <td>195836</td>\n",
       "    </tr>\n",
       "    <tr>\n",
       "      <th>WHITE</th>\n",
       "      <td>121103</td>\n",
       "    </tr>\n",
       "    <tr>\n",
       "      <th>OTHER</th>\n",
       "      <td>41757</td>\n",
       "    </tr>\n",
       "    <tr>\n",
       "      <th>ASIAN / PACIFIC ISLANDER</th>\n",
       "      <td>20730</td>\n",
       "    </tr>\n",
       "    <tr>\n",
       "      <th>HISPANIC</th>\n",
       "      <td>6596</td>\n",
       "    </tr>\n",
       "    <tr>\n",
       "      <th>AMERICAN INDIAN/ALASKAN NATIVE</th>\n",
       "      <td>1709</td>\n",
       "    </tr>\n",
       "  </tbody>\n",
       "</table>\n",
       "</div>"
      ],
      "text/plain": [
       "                                    ID\n",
       "Victim_Race_Recoded                   \n",
       "BLACK                           195836\n",
       "WHITE                           121103\n",
       "OTHER                            41757\n",
       "ASIAN / PACIFIC ISLANDER         20730\n",
       "HISPANIC                          6596\n",
       "AMERICAN INDIAN/ALASKAN NATIVE    1709"
      ]
     },
     "execution_count": 565,
     "metadata": {},
     "output_type": "execute_result"
    }
   ],
   "source": [
    "df[[\"ID\", \"Victim_Race_Recoded\"]].groupby(\"Victim_Race_Recoded\").count().sort_values('ID',ascending=False)"
   ]
  },
  {
   "cell_type": "code",
   "execution_count": 566,
   "id": "ca73e8d1-0f0e-4bef-b6b5-6864224ed44f",
   "metadata": {},
   "outputs": [
    {
     "data": {
      "text/html": [
       "<div>\n",
       "<style scoped>\n",
       "    .dataframe tbody tr th:only-of-type {\n",
       "        vertical-align: middle;\n",
       "    }\n",
       "\n",
       "    .dataframe tbody tr th {\n",
       "        vertical-align: top;\n",
       "    }\n",
       "\n",
       "    .dataframe thead th {\n",
       "        text-align: right;\n",
       "    }\n",
       "</style>\n",
       "<table border=\"1\" class=\"dataframe\">\n",
       "  <thead>\n",
       "    <tr style=\"text-align: right;\">\n",
       "      <th></th>\n",
       "      <th>ID</th>\n",
       "    </tr>\n",
       "    <tr>\n",
       "      <th>Victim Sex</th>\n",
       "      <th></th>\n",
       "    </tr>\n",
       "  </thead>\n",
       "  <tbody>\n",
       "    <tr>\n",
       "      <th>FEMALE</th>\n",
       "      <td>283361</td>\n",
       "    </tr>\n",
       "    <tr>\n",
       "      <th>MALE</th>\n",
       "      <td>111624</td>\n",
       "    </tr>\n",
       "  </tbody>\n",
       "</table>\n",
       "</div>"
      ],
      "text/plain": [
       "                ID\n",
       "Victim Sex        \n",
       "FEMALE      283361\n",
       "MALE        111624"
      ]
     },
     "execution_count": 566,
     "metadata": {},
     "output_type": "execute_result"
    }
   ],
   "source": [
    "df[[\"ID\", \"Victim Sex\"]].groupby(\"Victim Sex\").count().sort_values('ID',ascending=False)"
   ]
  },
  {
   "cell_type": "code",
   "execution_count": 567,
   "id": "fb096d82-bb4e-488b-8b9d-4ddb8867c4ef",
   "metadata": {},
   "outputs": [
    {
     "data": {
      "text/html": [
       "<div>\n",
       "<style scoped>\n",
       "    .dataframe tbody tr th:only-of-type {\n",
       "        vertical-align: middle;\n",
       "    }\n",
       "\n",
       "    .dataframe tbody tr th {\n",
       "        vertical-align: top;\n",
       "    }\n",
       "\n",
       "    .dataframe thead th {\n",
       "        text-align: right;\n",
       "    }\n",
       "</style>\n",
       "<table border=\"1\" class=\"dataframe\">\n",
       "  <thead>\n",
       "    <tr style=\"text-align: right;\">\n",
       "      <th></th>\n",
       "      <th>ID</th>\n",
       "    </tr>\n",
       "    <tr>\n",
       "      <th>Poverty</th>\n",
       "      <th></th>\n",
       "    </tr>\n",
       "  </thead>\n",
       "  <tbody>\n",
       "    <tr>\n",
       "      <th>1.0</th>\n",
       "      <td>202323</td>\n",
       "    </tr>\n",
       "  </tbody>\n",
       "</table>\n",
       "</div>"
      ],
      "text/plain": [
       "             ID\n",
       "Poverty        \n",
       "1.0      202323"
      ]
     },
     "execution_count": 567,
     "metadata": {},
     "output_type": "execute_result"
    }
   ],
   "source": [
    "df[[\"ID\", \"Poverty\"]].groupby(\"Poverty\").count().sort_values('ID',ascending=False)"
   ]
  },
  {
   "cell_type": "code",
   "execution_count": 568,
   "id": "9a5d9e50-bfe8-4f7c-b76d-c0e2c61fa83f",
   "metadata": {},
   "outputs": [
    {
     "data": {
      "text/html": [
       "<div>\n",
       "<style scoped>\n",
       "    .dataframe tbody tr th:only-of-type {\n",
       "        vertical-align: middle;\n",
       "    }\n",
       "\n",
       "    .dataframe tbody tr th {\n",
       "        vertical-align: top;\n",
       "    }\n",
       "\n",
       "    .dataframe thead th {\n",
       "        text-align: right;\n",
       "    }\n",
       "</style>\n",
       "<table border=\"1\" class=\"dataframe\">\n",
       "  <thead>\n",
       "    <tr style=\"text-align: right;\">\n",
       "      <th></th>\n",
       "      <th>Borough Name</th>\n",
       "      <th>Poverty</th>\n",
       "      <th>count</th>\n",
       "    </tr>\n",
       "  </thead>\n",
       "  <tbody>\n",
       "    <tr>\n",
       "      <th>0</th>\n",
       "      <td>BRONX</td>\n",
       "      <td>1.0</td>\n",
       "      <td>107717</td>\n",
       "    </tr>\n",
       "    <tr>\n",
       "      <th>1</th>\n",
       "      <td>BROOKLYN</td>\n",
       "      <td>1.0</td>\n",
       "      <td>58212</td>\n",
       "    </tr>\n",
       "    <tr>\n",
       "      <th>2</th>\n",
       "      <td>MANHATTAN</td>\n",
       "      <td>1.0</td>\n",
       "      <td>36317</td>\n",
       "    </tr>\n",
       "    <tr>\n",
       "      <th>3</th>\n",
       "      <td>QUEENS</td>\n",
       "      <td>1.0</td>\n",
       "      <td>77</td>\n",
       "    </tr>\n",
       "  </tbody>\n",
       "</table>\n",
       "</div>"
      ],
      "text/plain": [
       "  Borough Name  Poverty   count\n",
       "0        BRONX      1.0  107717\n",
       "1     BROOKLYN      1.0   58212\n",
       "2    MANHATTAN      1.0   36317\n",
       "3       QUEENS      1.0      77"
      ]
     },
     "execution_count": 568,
     "metadata": {},
     "output_type": "execute_result"
    }
   ],
   "source": [
    "#Note: 1 = commmunity district has high poverty rate\n",
    "\n",
    "df.groupby([\"Borough Name\",\"Poverty\"]).size().reset_index(name='count').sort_values('Poverty',ascending=False)"
   ]
  },
  {
   "cell_type": "code",
   "execution_count": 569,
   "id": "6e94666e-6fe8-4188-8ffe-8fb856715eef",
   "metadata": {},
   "outputs": [
    {
     "data": {
      "image/png": "[encoded data removed]",
      "text/plain": [
       "<Figure size 640x480 with 1 Axes>"
      ]
     },
     "metadata": {},
     "output_type": "display_data"
    }
   ],
   "source": [
    "#Graph: Volume of Domestic Violence Related Offenses by Victim Sex\n",
    "\n",
    "sns.histplot(binwidth=1,\n",
    "            x=\"Victim Sex\",\n",
    "            data=df,\n",
    "            stat=\"count\",\n",
    "            multiple=\"dodge\").set_title(\"Volume of Domestic Violence Related Offenses by Victim Sex\")\n",
    "plt.xticks(rotation=60)\n",
    "\n",
    "plt.show()"
   ]
  },
  {
   "cell_type": "code",
   "execution_count": 570,
   "id": "caf0bb45-ec4d-4520-a130-d8d552fd476c",
   "metadata": {},
   "outputs": [
    {
     "data": {
      "text/html": [
       "<div>\n",
       "<style scoped>\n",
       "    .dataframe tbody tr th:only-of-type {\n",
       "        vertical-align: middle;\n",
       "    }\n",
       "\n",
       "    .dataframe tbody tr th {\n",
       "        vertical-align: top;\n",
       "    }\n",
       "\n",
       "    .dataframe thead th {\n",
       "        text-align: right;\n",
       "    }\n",
       "</style>\n",
       "<table border=\"1\" class=\"dataframe\">\n",
       "  <thead>\n",
       "    <tr style=\"text-align: right;\">\n",
       "      <th>Victim Sex</th>\n",
       "      <th>FEMALE</th>\n",
       "      <th>MALE</th>\n",
       "    </tr>\n",
       "    <tr>\n",
       "      <th>Year</th>\n",
       "      <th></th>\n",
       "      <th></th>\n",
       "    </tr>\n",
       "  </thead>\n",
       "  <tbody>\n",
       "    <tr>\n",
       "      <th>2020</th>\n",
       "      <td>136676</td>\n",
       "      <td>54150</td>\n",
       "    </tr>\n",
       "    <tr>\n",
       "      <th>2021</th>\n",
       "      <td>146685</td>\n",
       "      <td>57474</td>\n",
       "    </tr>\n",
       "  </tbody>\n",
       "</table>\n",
       "</div>"
      ],
      "text/plain": [
       "Victim Sex  FEMALE   MALE\n",
       "Year                     \n",
       "2020        136676  54150\n",
       "2021        146685  57474"
      ]
     },
     "metadata": {},
     "output_type": "display_data"
    }
   ],
   "source": [
    "pt = df.pivot_table(index=\"Year\", columns=\"Victim Sex\", values=\"ID\", aggfunc=lambda x:len(x.unique()))\n",
    "display(pt)"
   ]
  },
  {
   "cell_type": "code",
   "execution_count": 571,
   "id": "35edcbf7-bdc2-4698-bd86-627a45f28aec",
   "metadata": {},
   "outputs": [
    {
     "data": {
      "image/png": "[encoded data removed]",
      "text/plain": [
       "<Figure size 640x480 with 1 Axes>"
      ]
     },
     "metadata": {},
     "output_type": "display_data"
    }
   ],
   "source": [
    "ax1=pt.plot(kind='bar', rot=0)"
   ]
  },
  {
   "cell_type": "code",
   "execution_count": 572,
   "id": "31f80846-04ca-42af-9cc3-4dba4ec6f883",
   "metadata": {},
   "outputs": [
    {
     "data": {
      "image/png": "[encoded data removed]",
      "text/plain": [
       "<Figure size 640x480 with 1 Axes>"
      ]
     },
     "metadata": {},
     "output_type": "display_data"
    }
   ],
   "source": [
    "#Graph: Volume of Domestic Violence Related Offenses by Victim Race\n",
    "\n",
    "sns.histplot(binwidth=1,\n",
    "            x=\"Victim_Race_Recoded\",\n",
    "            data=df,\n",
    "            stat=\"count\",\n",
    "            multiple=\"dodge\").set_title(\"Volume of Domestic Violence Related Offenses by Victim Race\")\n",
    "plt.xticks(rotation=60)\n",
    "\n",
    "plt.show()"
   ]
  },
  {
   "cell_type": "code",
   "execution_count": 573,
   "id": "74883a33-d105-49a9-8330-ea43add72e3e",
   "metadata": {},
   "outputs": [
    {
     "data": {
      "text/html": [
       "<div>\n",
       "<style scoped>\n",
       "    .dataframe tbody tr th:only-of-type {\n",
       "        vertical-align: middle;\n",
       "    }\n",
       "\n",
       "    .dataframe tbody tr th {\n",
       "        vertical-align: top;\n",
       "    }\n",
       "\n",
       "    .dataframe thead th {\n",
       "        text-align: right;\n",
       "    }\n",
       "</style>\n",
       "<table border=\"1\" class=\"dataframe\">\n",
       "  <thead>\n",
       "    <tr style=\"text-align: right;\">\n",
       "      <th>Victim_Race_Recoded</th>\n",
       "      <th>AMERICAN INDIAN/ALASKAN NATIVE</th>\n",
       "      <th>ASIAN / PACIFIC ISLANDER</th>\n",
       "      <th>BLACK</th>\n",
       "      <th>HISPANIC</th>\n",
       "      <th>OTHER</th>\n",
       "      <th>WHITE</th>\n",
       "    </tr>\n",
       "    <tr>\n",
       "      <th>Year</th>\n",
       "      <th></th>\n",
       "      <th></th>\n",
       "      <th></th>\n",
       "      <th></th>\n",
       "      <th></th>\n",
       "      <th></th>\n",
       "    </tr>\n",
       "  </thead>\n",
       "  <tbody>\n",
       "    <tr>\n",
       "      <th>2020</th>\n",
       "      <td>809</td>\n",
       "      <td>9972</td>\n",
       "      <td>94182</td>\n",
       "      <td>3165</td>\n",
       "      <td>20216</td>\n",
       "      <td>58999</td>\n",
       "    </tr>\n",
       "    <tr>\n",
       "      <th>2021</th>\n",
       "      <td>900</td>\n",
       "      <td>10758</td>\n",
       "      <td>101654</td>\n",
       "      <td>3431</td>\n",
       "      <td>21541</td>\n",
       "      <td>62104</td>\n",
       "    </tr>\n",
       "  </tbody>\n",
       "</table>\n",
       "</div>"
      ],
      "text/plain": [
       "Victim_Race_Recoded  AMERICAN INDIAN/ALASKAN NATIVE  ASIAN / PACIFIC ISLANDER  \\\n",
       "Year                                                                            \n",
       "2020                                            809                      9972   \n",
       "2021                                            900                     10758   \n",
       "\n",
       "Victim_Race_Recoded   BLACK  HISPANIC  OTHER  WHITE  \n",
       "Year                                                 \n",
       "2020                  94182      3165  20216  58999  \n",
       "2021                 101654      3431  21541  62104  "
      ]
     },
     "metadata": {},
     "output_type": "display_data"
    }
   ],
   "source": [
    "pt2 = df.pivot_table(index=\"Year\", columns=\"Victim_Race_Recoded\", values=\"ID\", aggfunc=lambda x:len(x.unique()))\n",
    "display(pt2)"
   ]
  },
  {
   "cell_type": "code",
   "execution_count": 574,
   "id": "ade1208f-94f5-4337-a9d1-48f4d92c9053",
   "metadata": {},
   "outputs": [
    {
     "data": {
      "text/plain": [
       "<matplotlib.legend.Legend at 0x1ac881aa510>"
      ]
     },
     "execution_count": 574,
     "metadata": {},
     "output_type": "execute_result"
    },
    {
     "data": {
      "image/png": "[encoded data removed]",
      "text/plain": [
       "<Figure size 640x480 with 1 Axes>"
      ]
     },
     "metadata": {},
     "output_type": "display_data"
    }
   ],
   "source": [
    "ax1=pt2.plot(kind='bar', rot=0)\n",
    "plt.title(\"Volume of Domestic Violence Related Incidents by Year and Victim Race\")\n",
    "plt.legend(loc=(1.05,0.5))"
   ]
  },
  {
   "cell_type": "code",
   "execution_count": 575,
   "id": "07ddd476-f980-4fb9-96ac-84f64f876674",
   "metadata": {},
   "outputs": [
    {
     "data": {
      "text/html": [
       "<div>\n",
       "<style scoped>\n",
       "    .dataframe tbody tr th:only-of-type {\n",
       "        vertical-align: middle;\n",
       "    }\n",
       "\n",
       "    .dataframe tbody tr th {\n",
       "        vertical-align: top;\n",
       "    }\n",
       "\n",
       "    .dataframe thead th {\n",
       "        text-align: right;\n",
       "    }\n",
       "</style>\n",
       "<table border=\"1\" class=\"dataframe\">\n",
       "  <thead>\n",
       "    <tr style=\"text-align: right;\">\n",
       "      <th>Poverty</th>\n",
       "      <th>1.0</th>\n",
       "    </tr>\n",
       "    <tr>\n",
       "      <th>Year</th>\n",
       "      <th></th>\n",
       "    </tr>\n",
       "  </thead>\n",
       "  <tbody>\n",
       "    <tr>\n",
       "      <th>2020</th>\n",
       "      <td>102006</td>\n",
       "    </tr>\n",
       "    <tr>\n",
       "      <th>2021</th>\n",
       "      <td>100317</td>\n",
       "    </tr>\n",
       "  </tbody>\n",
       "</table>\n",
       "</div>"
      ],
      "text/plain": [
       "Poverty     1.0\n",
       "Year           \n",
       "2020     102006\n",
       "2021     100317"
      ]
     },
     "metadata": {},
     "output_type": "display_data"
    }
   ],
   "source": [
    "#Poverty \n",
    "\n",
    "pt4 = df.pivot_table(index=\"Year\", columns=\"Poverty\", values=\"ID\", aggfunc=lambda x:len(x.unique()))\n",
    "display(pt4)"
   ]
  },
  {
   "cell_type": "code",
   "execution_count": 576,
   "id": "89d4c7b9-5250-4c20-95b7-614abee4640a",
   "metadata": {},
   "outputs": [
    {
     "data": {
      "image/png": "[encoded data removed]",
      "text/plain": [
       "<Figure size 640x480 with 1 Axes>"
      ]
     },
     "metadata": {},
     "output_type": "display_data"
    }
   ],
   "source": [
    "ax1=pt4.plot(kind='bar', rot=0)"
   ]
  },
  {
   "cell_type": "code",
   "execution_count": 577,
   "id": "68bd791d-1b4d-4907-8397-e0deeb05ed7a",
   "metadata": {},
   "outputs": [
    {
     "data": {
      "text/html": [
       "<div>\n",
       "<style scoped>\n",
       "    .dataframe tbody tr th:only-of-type {\n",
       "        vertical-align: middle;\n",
       "    }\n",
       "\n",
       "    .dataframe tbody tr th {\n",
       "        vertical-align: top;\n",
       "    }\n",
       "\n",
       "    .dataframe thead th {\n",
       "        text-align: right;\n",
       "    }\n",
       "</style>\n",
       "<table border=\"1\" class=\"dataframe\">\n",
       "  <thead>\n",
       "    <tr style=\"text-align: right;\">\n",
       "      <th>Borough Name</th>\n",
       "      <th>BRONX</th>\n",
       "      <th>BROOKLYN</th>\n",
       "      <th>MANHATTAN</th>\n",
       "      <th>QUEENS</th>\n",
       "      <th>STATEN ISLAND</th>\n",
       "    </tr>\n",
       "    <tr>\n",
       "      <th>Year</th>\n",
       "      <th></th>\n",
       "      <th></th>\n",
       "      <th></th>\n",
       "      <th></th>\n",
       "      <th></th>\n",
       "    </tr>\n",
       "  </thead>\n",
       "  <tbody>\n",
       "    <tr>\n",
       "      <th>2020</th>\n",
       "      <td>73358</td>\n",
       "      <td>70661</td>\n",
       "      <td>35031</td>\n",
       "      <td>50910</td>\n",
       "      <td>12080</td>\n",
       "    </tr>\n",
       "    <tr>\n",
       "      <th>2021</th>\n",
       "      <td>70864</td>\n",
       "      <td>70537</td>\n",
       "      <td>37072</td>\n",
       "      <td>51120</td>\n",
       "      <td>12155</td>\n",
       "    </tr>\n",
       "  </tbody>\n",
       "</table>\n",
       "</div>"
      ],
      "text/plain": [
       "Borough Name  BRONX  BROOKLYN  MANHATTAN  QUEENS  STATEN ISLAND\n",
       "Year                                                           \n",
       "2020          73358     70661      35031   50910          12080\n",
       "2021          70864     70537      37072   51120          12155"
      ]
     },
     "metadata": {},
     "output_type": "display_data"
    }
   ],
   "source": [
    "#Borough by Year\n",
    "pt6 = df.pivot_table(index=\"Year\", columns=\"Borough Name\", values=\"ID\", aggfunc=lambda x:len(x.unique()))\n",
    "display(pt6)"
   ]
  },
  {
   "cell_type": "code",
   "execution_count": 578,
   "id": "8e212b87-bf24-4607-a59f-57ebae86e8ee",
   "metadata": {},
   "outputs": [
    {
     "data": {
      "text/plain": [
       "<matplotlib.legend.Legend at 0x1ac881efc50>"
      ]
     },
     "execution_count": 578,
     "metadata": {},
     "output_type": "execute_result"
    },
    {
     "data": {
      "image/png": "[encoded data removed]",
      "text/plain": [
       "<Figure size 640x480 with 1 Axes>"
      ]
     },
     "metadata": {},
     "output_type": "display_data"
    }
   ],
   "source": [
    "ax1=pt6.plot(kind='bar', rot=0)\n",
    "plt.title(\"Volume of Domestic Violence Related Incidents by Year and Borough\")\n",
    "plt.legend(loc=(1.05,0.5))"
   ]
  },
  {
   "cell_type": "code",
   "execution_count": 579,
   "id": "505914fa-2b56-43b6-bcc3-e8c54b4a648c",
   "metadata": {},
   "outputs": [
    {
     "name": "stderr",
     "output_type": "stream",
     "text": [
      "C:\\Users\\katri\\AppData\\Local\\Temp\\ipykernel_21424\\166558294.py:3: UserWarning: Pandas doesn't allow columns to be created via a new attribute name - see https://pandas.pydata.org/pandas-docs/stable/indexing.html#attribute-access\n",
      "  df.restrict1 = df[df['Report Date'].dt.year != year_to_remove]\n"
     ]
    }
   ],
   "source": [
    "#Additional Data Cleaning: Restricting File\n",
    "year_to_remove = 2020\n",
    "df.restrict1 = df[df['Report Date'].dt.year != year_to_remove]"
   ]
  },
  {
   "cell_type": "code",
   "execution_count": 580,
   "id": "93a37827-9bd9-4779-8d48-31d54d1314d5",
   "metadata": {},
   "outputs": [
    {
     "name": "stdout",
     "output_type": "stream",
     "text": [
      "<class 'pandas.core.frame.DataFrame'>\n",
      "Index: 241748 entries, 3 to 483785\n",
      "Data columns (total 12 columns):\n",
      " #   Column                      Non-Null Count   Dtype         \n",
      "---  ------                      --------------   -----         \n",
      " 0   Offense Type                241748 non-null  object        \n",
      " 1   Report Date                 241748 non-null  datetime64[ns]\n",
      " 2   Borough Name                241748 non-null  object        \n",
      " 3   Intimate Relationship Flag  241748 non-null  object        \n",
      " 4   Victim_Race                 200388 non-null  object        \n",
      " 5   Victim Sex                  204159 non-null  object        \n",
      " 6   COMMDIST                    241672 non-null  float64       \n",
      " 7   Poverty                     100317 non-null  float64       \n",
      " 8   ID                          241748 non-null  int64         \n",
      " 9   Year                        241748 non-null  int32         \n",
      " 10  Month                       241748 non-null  int32         \n",
      " 11  Victim_Race_Recoded         200388 non-null  object        \n",
      "dtypes: datetime64[ns](1), float64(2), int32(2), int64(1), object(6)\n",
      "memory usage: 22.1+ MB\n",
      "None\n"
     ]
    }
   ],
   "source": [
    "print(df.restrict1.info())"
   ]
  },
  {
   "cell_type": "code",
   "execution_count": 581,
   "id": "e4cb91e5-b6a0-4308-81ef-f5124471d27f",
   "metadata": {},
   "outputs": [
    {
     "data": {
      "text/html": [
       "<div>\n",
       "<style scoped>\n",
       "    .dataframe tbody tr th:only-of-type {\n",
       "        vertical-align: middle;\n",
       "    }\n",
       "\n",
       "    .dataframe tbody tr th {\n",
       "        vertical-align: top;\n",
       "    }\n",
       "\n",
       "    .dataframe thead th {\n",
       "        text-align: right;\n",
       "    }\n",
       "</style>\n",
       "<table border=\"1\" class=\"dataframe\">\n",
       "  <thead>\n",
       "    <tr style=\"text-align: right;\">\n",
       "      <th>Borough Name</th>\n",
       "      <th>BRONX</th>\n",
       "      <th>BROOKLYN</th>\n",
       "      <th>MANHATTAN</th>\n",
       "      <th>QUEENS</th>\n",
       "      <th>STATEN ISLAND</th>\n",
       "    </tr>\n",
       "    <tr>\n",
       "      <th>Year</th>\n",
       "      <th></th>\n",
       "      <th></th>\n",
       "      <th></th>\n",
       "      <th></th>\n",
       "      <th></th>\n",
       "    </tr>\n",
       "  </thead>\n",
       "  <tbody>\n",
       "    <tr>\n",
       "      <th>2021</th>\n",
       "      <td>70864</td>\n",
       "      <td>70537</td>\n",
       "      <td>37072</td>\n",
       "      <td>51120</td>\n",
       "      <td>12155</td>\n",
       "    </tr>\n",
       "  </tbody>\n",
       "</table>\n",
       "</div>"
      ],
      "text/plain": [
       "Borough Name  BRONX  BROOKLYN  MANHATTAN  QUEENS  STATEN ISLAND\n",
       "Year                                                           \n",
       "2021          70864     70537      37072   51120          12155"
      ]
     },
     "metadata": {},
     "output_type": "display_data"
    }
   ],
   "source": [
    "pt8 = df.restrict1.pivot_table(index=\"Year\", columns=\"Borough Name\", values=\"ID\", aggfunc=lambda x:len(x.unique()))\n",
    "display(pt8)"
   ]
  },
  {
   "cell_type": "code",
   "execution_count": 582,
   "id": "38631400-5eed-4a4f-82e4-81edeca6abfb",
   "metadata": {},
   "outputs": [
    {
     "data": {
      "text/html": [
       "<div>\n",
       "<style scoped>\n",
       "    .dataframe tbody tr th:only-of-type {\n",
       "        vertical-align: middle;\n",
       "    }\n",
       "\n",
       "    .dataframe tbody tr th {\n",
       "        vertical-align: top;\n",
       "    }\n",
       "\n",
       "    .dataframe thead th {\n",
       "        text-align: right;\n",
       "    }\n",
       "</style>\n",
       "<table border=\"1\" class=\"dataframe\">\n",
       "  <thead>\n",
       "    <tr style=\"text-align: right;\">\n",
       "      <th>Poverty</th>\n",
       "      <th>1.0</th>\n",
       "    </tr>\n",
       "    <tr>\n",
       "      <th>Borough Name</th>\n",
       "      <th></th>\n",
       "    </tr>\n",
       "  </thead>\n",
       "  <tbody>\n",
       "    <tr>\n",
       "      <th>BRONX</th>\n",
       "      <td>53058</td>\n",
       "    </tr>\n",
       "    <tr>\n",
       "      <th>BROOKLYN</th>\n",
       "      <td>29009</td>\n",
       "    </tr>\n",
       "    <tr>\n",
       "      <th>MANHATTAN</th>\n",
       "      <td>18239</td>\n",
       "    </tr>\n",
       "    <tr>\n",
       "      <th>QUEENS</th>\n",
       "      <td>11</td>\n",
       "    </tr>\n",
       "  </tbody>\n",
       "</table>\n",
       "</div>"
      ],
      "text/plain": [
       "Poverty         1.0\n",
       "Borough Name       \n",
       "BRONX         53058\n",
       "BROOKLYN      29009\n",
       "MANHATTAN     18239\n",
       "QUEENS           11"
      ]
     },
     "metadata": {},
     "output_type": "display_data"
    }
   ],
   "source": [
    "pt9 = df.restrict1.pivot_table(index=\"Borough Name\", columns=\"Poverty\", values=\"ID\", aggfunc=lambda x:len(x.unique()))\n",
    "display(pt9)"
   ]
  },
  {
   "cell_type": "code",
   "execution_count": 583,
   "id": "31a3f423-a497-4a9f-8976-473c6c3a2012",
   "metadata": {},
   "outputs": [
    {
     "data": {
      "text/plain": [
       "<matplotlib.legend.Legend at 0x1acb8e7c230>"
      ]
     },
     "execution_count": 583,
     "metadata": {},
     "output_type": "execute_result"
    },
    {
     "data": {
      "image/png": "[encoded data removed]",
      "text/plain": [
       "<Figure size 640x480 with 1 Axes>"
      ]
     },
     "metadata": {},
     "output_type": "display_data"
    }
   ],
   "source": [
    "ax1=pt9.plot(kind='bar', rot=0)\n",
    "plt.title(\"Volume of Domestic Violence Related Incidents in 2021 by Borough and Poverty Indicator\")\n",
    "plt.legend(loc=(1.05,0.5))"
   ]
  },
  {
   "cell_type": "code",
   "execution_count": 584,
   "id": "1df7eda7-2df0-4797-ab3d-11ec09ab9f92",
   "metadata": {},
   "outputs": [
    {
     "name": "stderr",
     "output_type": "stream",
     "text": [
      "C:\\Users\\katri\\AppData\\Local\\Temp\\ipykernel_21424\\3741662501.py:3: UserWarning: Pandas doesn't allow columns to be created via a new attribute name - see https://pandas.pydata.org/pandas-docs/stable/indexing.html#attribute-access\n",
      "  df.restrict2 = df[df['Report Date'].dt.year != year_to_remove]\n"
     ]
    }
   ],
   "source": [
    "#Additional Data Cleaning: Restricting File\n",
    "year_to_remove = 2021\n",
    "df.restrict2 = df[df['Report Date'].dt.year != year_to_remove]"
   ]
  },
  {
   "cell_type": "code",
   "execution_count": 585,
   "id": "3abf93fe-9653-4061-9f2f-5f10ac283ca1",
   "metadata": {},
   "outputs": [
    {
     "name": "stdout",
     "output_type": "stream",
     "text": [
      "<class 'pandas.core.frame.DataFrame'>\n",
      "Index: 242040 entries, 0 to 483789\n",
      "Data columns (total 12 columns):\n",
      " #   Column                      Non-Null Count   Dtype         \n",
      "---  ------                      --------------   -----         \n",
      " 0   Offense Type                242040 non-null  object        \n",
      " 1   Report Date                 242040 non-null  datetime64[ns]\n",
      " 2   Borough Name                242040 non-null  object        \n",
      " 3   Intimate Relationship Flag  242040 non-null  object        \n",
      " 4   Victim_Race                 187343 non-null  object        \n",
      " 5   Victim Sex                  190826 non-null  object        \n",
      " 6   COMMDIST                    242012 non-null  float64       \n",
      " 7   Poverty                     102006 non-null  float64       \n",
      " 8   ID                          242040 non-null  int64         \n",
      " 9   Year                        242040 non-null  int32         \n",
      " 10  Month                       242040 non-null  int32         \n",
      " 11  Victim_Race_Recoded         187343 non-null  object        \n",
      "dtypes: datetime64[ns](1), float64(2), int32(2), int64(1), object(6)\n",
      "memory usage: 22.2+ MB\n",
      "None\n"
     ]
    }
   ],
   "source": [
    "print(df.restrict2.info())"
   ]
  },
  {
   "cell_type": "code",
   "execution_count": 586,
   "id": "d5990dcb-0574-4534-8816-a18b99de7f08",
   "metadata": {},
   "outputs": [
    {
     "data": {
      "text/html": [
       "<div>\n",
       "<style scoped>\n",
       "    .dataframe tbody tr th:only-of-type {\n",
       "        vertical-align: middle;\n",
       "    }\n",
       "\n",
       "    .dataframe tbody tr th {\n",
       "        vertical-align: top;\n",
       "    }\n",
       "\n",
       "    .dataframe thead th {\n",
       "        text-align: right;\n",
       "    }\n",
       "</style>\n",
       "<table border=\"1\" class=\"dataframe\">\n",
       "  <thead>\n",
       "    <tr style=\"text-align: right;\">\n",
       "      <th>Poverty</th>\n",
       "      <th>1.0</th>\n",
       "    </tr>\n",
       "    <tr>\n",
       "      <th>Borough Name</th>\n",
       "      <th></th>\n",
       "    </tr>\n",
       "  </thead>\n",
       "  <tbody>\n",
       "    <tr>\n",
       "      <th>BRONX</th>\n",
       "      <td>54659</td>\n",
       "    </tr>\n",
       "    <tr>\n",
       "      <th>BROOKLYN</th>\n",
       "      <td>29203</td>\n",
       "    </tr>\n",
       "    <tr>\n",
       "      <th>MANHATTAN</th>\n",
       "      <td>18078</td>\n",
       "    </tr>\n",
       "    <tr>\n",
       "      <th>QUEENS</th>\n",
       "      <td>66</td>\n",
       "    </tr>\n",
       "  </tbody>\n",
       "</table>\n",
       "</div>"
      ],
      "text/plain": [
       "Poverty         1.0\n",
       "Borough Name       \n",
       "BRONX         54659\n",
       "BROOKLYN      29203\n",
       "MANHATTAN     18078\n",
       "QUEENS           66"
      ]
     },
     "metadata": {},
     "output_type": "display_data"
    }
   ],
   "source": [
    "pt10 = df.restrict2.pivot_table(index=\"Borough Name\", columns=\"Poverty\", values=\"ID\", aggfunc=lambda x:len(x.unique()))\n",
    "display(pt10)"
   ]
  },
  {
   "cell_type": "code",
   "execution_count": 587,
   "id": "6771fe18-40a2-47db-9f6e-c6a1190ef5da",
   "metadata": {},
   "outputs": [
    {
     "data": {
      "text/plain": [
       "<matplotlib.legend.Legend at 0x1acb8fa58e0>"
      ]
     },
     "execution_count": 587,
     "metadata": {},
     "output_type": "execute_result"
    },
    {
     "data": {
      "image/png": "[encoded data removed]",
      "text/plain": [
       "<Figure size 640x480 with 1 Axes>"
      ]
     },
     "metadata": {},
     "output_type": "display_data"
    }
   ],
   "source": [
    "ax1=pt10.plot(kind='bar', rot=0)\n",
    "plt.title(\"Volume of Domestic Violence Related Incidents in 2020 by Borough and Poverty Indicator\")\n",
    "plt.legend(loc=(1.05,0.5))"
   ]
  },
  {
   "cell_type": "code",
   "execution_count": 588,
   "id": "f63742b9-f358-44f1-b950-082a2dd4ca4f",
   "metadata": {},
   "outputs": [
    {
     "name": "stderr",
     "output_type": "stream",
     "text": [
      "C:\\Users\\katri\\AppData\\Local\\Temp\\ipykernel_21424\\1641568575.py:2: UserWarning: Pandas doesn't allow columns to be created via a new attribute name - see https://pandas.pydata.org/pandas-docs/stable/indexing.html#attribute-access\n",
      "  df.restrict1_Bronx=df.restrict1[df.restrict1[\"Borough Name\"] == \"BRONX\"]\n"
     ]
    }
   ],
   "source": [
    "#Additional Data Cleaning: Restricting File: displaying 2021 data for BRONX only \n",
    "df.restrict1_Bronx=df.restrict1[df.restrict1[\"Borough Name\"] == \"BRONX\"] "
   ]
  },
  {
   "cell_type": "code",
   "execution_count": 589,
   "id": "7cd01623-1581-4a46-ad24-f1e64570c1f1",
   "metadata": {},
   "outputs": [
    {
     "name": "stdout",
     "output_type": "stream",
     "text": [
      "<class 'pandas.core.frame.DataFrame'>\n",
      "Index: 70864 entries, 25 to 483781\n",
      "Data columns (total 12 columns):\n",
      " #   Column                      Non-Null Count  Dtype         \n",
      "---  ------                      --------------  -----         \n",
      " 0   Offense Type                70864 non-null  object        \n",
      " 1   Report Date                 70864 non-null  datetime64[ns]\n",
      " 2   Borough Name                70864 non-null  object        \n",
      " 3   Intimate Relationship Flag  70864 non-null  object        \n",
      " 4   Victim_Race                 53759 non-null  object        \n",
      " 5   Victim Sex                  55771 non-null  object        \n",
      " 6   COMMDIST                    70838 non-null  float64       \n",
      " 7   Poverty                     53058 non-null  float64       \n",
      " 8   ID                          70864 non-null  int64         \n",
      " 9   Year                        70864 non-null  int32         \n",
      " 10  Month                       70864 non-null  int32         \n",
      " 11  Victim_Race_Recoded         53759 non-null  object        \n",
      "dtypes: datetime64[ns](1), float64(2), int32(2), int64(1), object(6)\n",
      "memory usage: 6.5+ MB\n",
      "None\n"
     ]
    }
   ],
   "source": [
    "print(df.restrict1_Bronx.info())"
   ]
  },
  {
   "cell_type": "code",
   "execution_count": 590,
   "id": "23c118cb-f826-49ca-983e-1a39333c0eb2",
   "metadata": {},
   "outputs": [
    {
     "data": {
      "text/html": [
       "<div>\n",
       "<style scoped>\n",
       "    .dataframe tbody tr th:only-of-type {\n",
       "        vertical-align: middle;\n",
       "    }\n",
       "\n",
       "    .dataframe tbody tr th {\n",
       "        vertical-align: top;\n",
       "    }\n",
       "\n",
       "    .dataframe thead th {\n",
       "        text-align: right;\n",
       "    }\n",
       "</style>\n",
       "<table border=\"1\" class=\"dataframe\">\n",
       "  <thead>\n",
       "    <tr style=\"text-align: right;\">\n",
       "      <th>COMMDIST</th>\n",
       "      <th>201.0</th>\n",
       "      <th>202.0</th>\n",
       "      <th>203.0</th>\n",
       "      <th>204.0</th>\n",
       "      <th>205.0</th>\n",
       "      <th>206.0</th>\n",
       "      <th>207.0</th>\n",
       "      <th>208.0</th>\n",
       "      <th>209.0</th>\n",
       "      <th>210.0</th>\n",
       "      <th>211.0</th>\n",
       "      <th>212.0</th>\n",
       "      <th>226.0</th>\n",
       "      <th>227.0</th>\n",
       "      <th>228.0</th>\n",
       "    </tr>\n",
       "    <tr>\n",
       "      <th>Borough Name</th>\n",
       "      <th></th>\n",
       "      <th></th>\n",
       "      <th></th>\n",
       "      <th></th>\n",
       "      <th></th>\n",
       "      <th></th>\n",
       "      <th></th>\n",
       "      <th></th>\n",
       "      <th></th>\n",
       "      <th></th>\n",
       "      <th></th>\n",
       "      <th></th>\n",
       "      <th></th>\n",
       "      <th></th>\n",
       "      <th></th>\n",
       "    </tr>\n",
       "  </thead>\n",
       "  <tbody>\n",
       "    <tr>\n",
       "      <th>BRONX</th>\n",
       "      <td>7312</td>\n",
       "      <td>4002</td>\n",
       "      <td>6967</td>\n",
       "      <td>7368</td>\n",
       "      <td>7169</td>\n",
       "      <td>5356</td>\n",
       "      <td>5924</td>\n",
       "      <td>2385</td>\n",
       "      <td>8960</td>\n",
       "      <td>3088</td>\n",
       "      <td>4034</td>\n",
       "      <td>8236</td>\n",
       "      <td>10</td>\n",
       "      <td>13</td>\n",
       "      <td>14</td>\n",
       "    </tr>\n",
       "  </tbody>\n",
       "</table>\n",
       "</div>"
      ],
      "text/plain": [
       "COMMDIST      201.0  202.0  203.0  204.0  205.0  206.0  207.0  208.0  209.0  \\\n",
       "Borough Name                                                                  \n",
       "BRONX          7312   4002   6967   7368   7169   5356   5924   2385   8960   \n",
       "\n",
       "COMMDIST      210.0  211.0  212.0  226.0  227.0  228.0  \n",
       "Borough Name                                            \n",
       "BRONX          3088   4034   8236     10     13     14  "
      ]
     },
     "metadata": {},
     "output_type": "display_data"
    }
   ],
   "source": [
    "pt20 = df.restrict1_Bronx.pivot_table(index=\"Borough Name\", columns=\"COMMDIST\", values=\"ID\", aggfunc=lambda x:len(x.unique()))\n",
    "display(pt20)"
   ]
  },
  {
   "cell_type": "code",
   "execution_count": 591,
   "id": "9d380943-4cd4-483e-ab78-8f65b819005f",
   "metadata": {},
   "outputs": [
    {
     "data": {
      "text/plain": [
       "<matplotlib.legend.Legend at 0x1acb8fee270>"
      ]
     },
     "execution_count": 591,
     "metadata": {},
     "output_type": "execute_result"
    },
    {
     "data": {
      "image/png": "[encoded data removed]",
      "text/plain": [
       "<Figure size 640x480 with 1 Axes>"
      ]
     },
     "metadata": {},
     "output_type": "display_data"
    }
   ],
   "source": [
    "ax1=pt20.plot(kind='bar', rot=0)\n",
    "plt.title(\"Volume of Domestic Violence Related Incidents in 2021 for Bronx by Commnunity District\")\n",
    "plt.legend(loc=(1.05,0.1))"
   ]
  },
  {
   "cell_type": "code",
   "execution_count": 592,
   "id": "8b5f3d38-5ce1-4c3d-a4da-4647d418647d",
   "metadata": {},
   "outputs": [
    {
     "name": "stderr",
     "output_type": "stream",
     "text": [
      "C:\\Users\\katri\\AppData\\Local\\Temp\\ipykernel_21424\\1753171050.py:2: UserWarning: Pandas doesn't allow columns to be created via a new attribute name - see https://pandas.pydata.org/pandas-docs/stable/indexing.html#attribute-access\n",
      "  df.restrict2_Bronx=df.restrict2[df.restrict2[\"Borough Name\"] == \"BRONX\"]\n"
     ]
    }
   ],
   "source": [
    "#Additional Data Cleaning: Restricting File: displaying 2020 data for BRONX only \n",
    "df.restrict2_Bronx=df.restrict2[df.restrict2[\"Borough Name\"] == \"BRONX\"] "
   ]
  },
  {
   "cell_type": "code",
   "execution_count": 593,
   "id": "257d1057-2187-4e38-afc2-ccc26f91a19d",
   "metadata": {},
   "outputs": [
    {
     "name": "stdout",
     "output_type": "stream",
     "text": [
      "<class 'pandas.core.frame.DataFrame'>\n",
      "Index: 73358 entries, 15 to 483788\n",
      "Data columns (total 12 columns):\n",
      " #   Column                      Non-Null Count  Dtype         \n",
      "---  ------                      --------------  -----         \n",
      " 0   Offense Type                73358 non-null  object        \n",
      " 1   Report Date                 73358 non-null  datetime64[ns]\n",
      " 2   Borough Name                73358 non-null  object        \n",
      " 3   Intimate Relationship Flag  73358 non-null  object        \n",
      " 4   Victim_Race                 50069 non-null  object        \n",
      " 5   Victim Sex                  51881 non-null  object        \n",
      " 6   COMMDIST                    73341 non-null  float64       \n",
      " 7   Poverty                     54659 non-null  float64       \n",
      " 8   ID                          73358 non-null  int64         \n",
      " 9   Year                        73358 non-null  int32         \n",
      " 10  Month                       73358 non-null  int32         \n",
      " 11  Victim_Race_Recoded         50069 non-null  object        \n",
      "dtypes: datetime64[ns](1), float64(2), int32(2), int64(1), object(6)\n",
      "memory usage: 6.7+ MB\n",
      "None\n"
     ]
    }
   ],
   "source": [
    "print(df.restrict2_Bronx.info())"
   ]
  },
  {
   "cell_type": "code",
   "execution_count": 594,
   "id": "c0553126-7e09-4401-bfd5-10ecd0586125",
   "metadata": {},
   "outputs": [
    {
     "data": {
      "text/html": [
       "<div>\n",
       "<style scoped>\n",
       "    .dataframe tbody tr th:only-of-type {\n",
       "        vertical-align: middle;\n",
       "    }\n",
       "\n",
       "    .dataframe tbody tr th {\n",
       "        vertical-align: top;\n",
       "    }\n",
       "\n",
       "    .dataframe thead th {\n",
       "        text-align: right;\n",
       "    }\n",
       "</style>\n",
       "<table border=\"1\" class=\"dataframe\">\n",
       "  <thead>\n",
       "    <tr style=\"text-align: right;\">\n",
       "      <th>COMMDIST</th>\n",
       "      <th>201.0</th>\n",
       "      <th>202.0</th>\n",
       "      <th>203.0</th>\n",
       "      <th>204.0</th>\n",
       "      <th>205.0</th>\n",
       "      <th>206.0</th>\n",
       "      <th>207.0</th>\n",
       "      <th>208.0</th>\n",
       "      <th>209.0</th>\n",
       "      <th>210.0</th>\n",
       "      <th>211.0</th>\n",
       "      <th>212.0</th>\n",
       "      <th>226.0</th>\n",
       "      <th>227.0</th>\n",
       "      <th>228.0</th>\n",
       "    </tr>\n",
       "    <tr>\n",
       "      <th>Borough Name</th>\n",
       "      <th></th>\n",
       "      <th></th>\n",
       "      <th></th>\n",
       "      <th></th>\n",
       "      <th></th>\n",
       "      <th></th>\n",
       "      <th></th>\n",
       "      <th></th>\n",
       "      <th></th>\n",
       "      <th></th>\n",
       "      <th></th>\n",
       "      <th></th>\n",
       "      <th></th>\n",
       "      <th></th>\n",
       "      <th></th>\n",
       "    </tr>\n",
       "  </thead>\n",
       "  <tbody>\n",
       "    <tr>\n",
       "      <th>BRONX</th>\n",
       "      <td>7312</td>\n",
       "      <td>4002</td>\n",
       "      <td>6967</td>\n",
       "      <td>7368</td>\n",
       "      <td>7169</td>\n",
       "      <td>5356</td>\n",
       "      <td>5924</td>\n",
       "      <td>2385</td>\n",
       "      <td>8960</td>\n",
       "      <td>3088</td>\n",
       "      <td>4034</td>\n",
       "      <td>8236</td>\n",
       "      <td>10</td>\n",
       "      <td>13</td>\n",
       "      <td>14</td>\n",
       "    </tr>\n",
       "  </tbody>\n",
       "</table>\n",
       "</div>"
      ],
      "text/plain": [
       "COMMDIST      201.0  202.0  203.0  204.0  205.0  206.0  207.0  208.0  209.0  \\\n",
       "Borough Name                                                                  \n",
       "BRONX          7312   4002   6967   7368   7169   5356   5924   2385   8960   \n",
       "\n",
       "COMMDIST      210.0  211.0  212.0  226.0  227.0  228.0  \n",
       "Borough Name                                            \n",
       "BRONX          3088   4034   8236     10     13     14  "
      ]
     },
     "metadata": {},
     "output_type": "display_data"
    }
   ],
   "source": [
    "pt21 = df.restrict1_Bronx.pivot_table(index=\"Borough Name\", columns=\"COMMDIST\", values=\"ID\", aggfunc=lambda x:len(x.unique()))\n",
    "display(pt21)"
   ]
  },
  {
   "cell_type": "code",
   "execution_count": 595,
   "id": "4130f9fe-01ec-499f-a609-148c7f6cddb1",
   "metadata": {},
   "outputs": [
    {
     "data": {
      "text/plain": [
       "<matplotlib.legend.Legend at 0x1ac881b0d10>"
      ]
     },
     "execution_count": 595,
     "metadata": {},
     "output_type": "execute_result"
    },
    {
     "data": {
      "image/png": "[encoded data removed]",
      "text/plain": [
       "<Figure size 640x480 with 1 Axes>"
      ]
     },
     "metadata": {},
     "output_type": "display_data"
    }
   ],
   "source": [
    "ax1=pt21.plot(kind='bar', rot=0)\n",
    "plt.title(\"Volume of Domestic Violence Related Incidents in 2020 for Bronx by Commnunity District\")\n",
    "plt.legend(loc=(1.05,0.1))"
   ]
  },
  {
   "cell_type": "code",
   "execution_count": 596,
   "id": "b702d453-d786-433d-b7b2-23b5c75b5d23",
   "metadata": {},
   "outputs": [
    {
     "name": "stderr",
     "output_type": "stream",
     "text": [
      "C:\\Users\\katri\\AppData\\Local\\Temp\\ipykernel_21424\\4135018629.py:2: UserWarning: Pandas doesn't allow columns to be created via a new attribute name - see https://pandas.pydata.org/pandas-docs/stable/indexing.html#attribute-access\n",
      "  df.restrict1_Brooklyn=df.restrict1[df.restrict1[\"Borough Name\"] == \"BROOKLYN\"]\n"
     ]
    }
   ],
   "source": [
    "#Additional Data Cleaning: Restricting File: displaying 2021 data for Brooklyn only \n",
    "df.restrict1_Brooklyn=df.restrict1[df.restrict1[\"Borough Name\"] == \"BROOKLYN\"] "
   ]
  },
  {
   "cell_type": "code",
   "execution_count": 597,
   "id": "6e0546ea-e47b-4b12-81bf-526433202bdf",
   "metadata": {},
   "outputs": [
    {
     "data": {
      "text/html": [
       "<div>\n",
       "<style scoped>\n",
       "    .dataframe tbody tr th:only-of-type {\n",
       "        vertical-align: middle;\n",
       "    }\n",
       "\n",
       "    .dataframe tbody tr th {\n",
       "        vertical-align: top;\n",
       "    }\n",
       "\n",
       "    .dataframe thead th {\n",
       "        text-align: right;\n",
       "    }\n",
       "</style>\n",
       "<table border=\"1\" class=\"dataframe\">\n",
       "  <thead>\n",
       "    <tr style=\"text-align: right;\">\n",
       "      <th>COMMDIST</th>\n",
       "      <th>301.0</th>\n",
       "      <th>302.0</th>\n",
       "      <th>303.0</th>\n",
       "      <th>304.0</th>\n",
       "      <th>305.0</th>\n",
       "      <th>306.0</th>\n",
       "      <th>307.0</th>\n",
       "      <th>308.0</th>\n",
       "      <th>309.0</th>\n",
       "      <th>310.0</th>\n",
       "      <th>...</th>\n",
       "      <th>313.0</th>\n",
       "      <th>314.0</th>\n",
       "      <th>315.0</th>\n",
       "      <th>316.0</th>\n",
       "      <th>317.0</th>\n",
       "      <th>318.0</th>\n",
       "      <th>355.0</th>\n",
       "      <th>356.0</th>\n",
       "      <th>405.0</th>\n",
       "      <th>410.0</th>\n",
       "    </tr>\n",
       "    <tr>\n",
       "      <th>Borough Name</th>\n",
       "      <th></th>\n",
       "      <th></th>\n",
       "      <th></th>\n",
       "      <th></th>\n",
       "      <th></th>\n",
       "      <th></th>\n",
       "      <th></th>\n",
       "      <th></th>\n",
       "      <th></th>\n",
       "      <th></th>\n",
       "      <th></th>\n",
       "      <th></th>\n",
       "      <th></th>\n",
       "      <th></th>\n",
       "      <th></th>\n",
       "      <th></th>\n",
       "      <th></th>\n",
       "      <th></th>\n",
       "      <th></th>\n",
       "      <th></th>\n",
       "      <th></th>\n",
       "    </tr>\n",
       "  </thead>\n",
       "  <tbody>\n",
       "    <tr>\n",
       "      <th>BROOKLYN</th>\n",
       "      <td>3505</td>\n",
       "      <td>2786</td>\n",
       "      <td>6728</td>\n",
       "      <td>3527</td>\n",
       "      <td>9794</td>\n",
       "      <td>1962</td>\n",
       "      <td>1774</td>\n",
       "      <td>3549</td>\n",
       "      <td>3007</td>\n",
       "      <td>1574</td>\n",
       "      <td>...</td>\n",
       "      <td>3444</td>\n",
       "      <td>3665</td>\n",
       "      <td>2353</td>\n",
       "      <td>7254</td>\n",
       "      <td>5831</td>\n",
       "      <td>5797</td>\n",
       "      <td>20</td>\n",
       "      <td>3</td>\n",
       "      <td>1</td>\n",
       "      <td>1</td>\n",
       "    </tr>\n",
       "  </tbody>\n",
       "</table>\n",
       "<p>1 rows × 22 columns</p>\n",
       "</div>"
      ],
      "text/plain": [
       "COMMDIST      301.0  302.0  303.0  304.0  305.0  306.0  307.0  308.0  309.0  \\\n",
       "Borough Name                                                                  \n",
       "BROOKLYN       3505   2786   6728   3527   9794   1962   1774   3549   3007   \n",
       "\n",
       "COMMDIST      310.0  ...  313.0  314.0  315.0  316.0  317.0  318.0  355.0  \\\n",
       "Borough Name         ...                                                    \n",
       "BROOKLYN       1574  ...   3444   3665   2353   7254   5831   5797     20   \n",
       "\n",
       "COMMDIST      356.0  405.0  410.0  \n",
       "Borough Name                       \n",
       "BROOKLYN          3      1      1  \n",
       "\n",
       "[1 rows x 22 columns]"
      ]
     },
     "metadata": {},
     "output_type": "display_data"
    }
   ],
   "source": [
    "pt22 = df.restrict1_Brooklyn.pivot_table(index=\"Borough Name\", columns=\"COMMDIST\", values=\"ID\", aggfunc=lambda x:len(x.unique()))\n",
    "display(pt22)"
   ]
  },
  {
   "cell_type": "code",
   "execution_count": 598,
   "id": "64c08bea-efcb-4835-aed3-b2f743c2526b",
   "metadata": {},
   "outputs": [
    {
     "data": {
      "text/plain": [
       "<matplotlib.legend.Legend at 0x1ac881ffe30>"
      ]
     },
     "execution_count": 598,
     "metadata": {},
     "output_type": "execute_result"
    },
    {
     "data": {
      "image/png": "[encoded data removed]",
      "text/plain": [
       "<Figure size 640x480 with 1 Axes>"
      ]
     },
     "metadata": {},
     "output_type": "display_data"
    }
   ],
   "source": [
    "ax1=pt22.plot(kind='bar', rot=0)\n",
    "plt.title(\"Volume of Domestic Violence Related Incidents in 2021 for Brooklyn by Commnunity District\")\n",
    "plt.legend(loc=(1.30,0.01))"
   ]
  },
  {
   "cell_type": "code",
   "execution_count": 599,
   "id": "6278a239-ebb2-4e33-a086-55ae17dbaf24",
   "metadata": {},
   "outputs": [
    {
     "name": "stderr",
     "output_type": "stream",
     "text": [
      "C:\\Users\\katri\\AppData\\Local\\Temp\\ipykernel_21424\\3658161314.py:2: UserWarning: Pandas doesn't allow columns to be created via a new attribute name - see https://pandas.pydata.org/pandas-docs/stable/indexing.html#attribute-access\n",
      "  df.restrict2_Brooklyn=df.restrict2[df.restrict2[\"Borough Name\"] == \"BROOKLYN\"]\n"
     ]
    }
   ],
   "source": [
    "#Additional Data Cleaning: Restricting File: displaying 2021 data for Brooklyn only \n",
    "df.restrict2_Brooklyn=df.restrict2[df.restrict2[\"Borough Name\"] == \"BROOKLYN\"] "
   ]
  },
  {
   "cell_type": "code",
   "execution_count": 600,
   "id": "c8ba53a2-b3f5-48df-bf6a-5b172910a2a8",
   "metadata": {},
   "outputs": [
    {
     "data": {
      "text/html": [
       "<div>\n",
       "<style scoped>\n",
       "    .dataframe tbody tr th:only-of-type {\n",
       "        vertical-align: middle;\n",
       "    }\n",
       "\n",
       "    .dataframe tbody tr th {\n",
       "        vertical-align: top;\n",
       "    }\n",
       "\n",
       "    .dataframe thead th {\n",
       "        text-align: right;\n",
       "    }\n",
       "</style>\n",
       "<table border=\"1\" class=\"dataframe\">\n",
       "  <thead>\n",
       "    <tr style=\"text-align: right;\">\n",
       "      <th>COMMDIST</th>\n",
       "      <th>103.0</th>\n",
       "      <th>301.0</th>\n",
       "      <th>302.0</th>\n",
       "      <th>303.0</th>\n",
       "      <th>304.0</th>\n",
       "      <th>305.0</th>\n",
       "      <th>306.0</th>\n",
       "      <th>307.0</th>\n",
       "      <th>308.0</th>\n",
       "      <th>309.0</th>\n",
       "      <th>...</th>\n",
       "      <th>312.0</th>\n",
       "      <th>313.0</th>\n",
       "      <th>314.0</th>\n",
       "      <th>315.0</th>\n",
       "      <th>316.0</th>\n",
       "      <th>317.0</th>\n",
       "      <th>318.0</th>\n",
       "      <th>355.0</th>\n",
       "      <th>356.0</th>\n",
       "      <th>405.0</th>\n",
       "    </tr>\n",
       "    <tr>\n",
       "      <th>Borough Name</th>\n",
       "      <th></th>\n",
       "      <th></th>\n",
       "      <th></th>\n",
       "      <th></th>\n",
       "      <th></th>\n",
       "      <th></th>\n",
       "      <th></th>\n",
       "      <th></th>\n",
       "      <th></th>\n",
       "      <th></th>\n",
       "      <th></th>\n",
       "      <th></th>\n",
       "      <th></th>\n",
       "      <th></th>\n",
       "      <th></th>\n",
       "      <th></th>\n",
       "      <th></th>\n",
       "      <th></th>\n",
       "      <th></th>\n",
       "      <th></th>\n",
       "      <th></th>\n",
       "    </tr>\n",
       "  </thead>\n",
       "  <tbody>\n",
       "    <tr>\n",
       "      <th>BROOKLYN</th>\n",
       "      <td>4</td>\n",
       "      <td>3514</td>\n",
       "      <td>2749</td>\n",
       "      <td>6828</td>\n",
       "      <td>3469</td>\n",
       "      <td>9854</td>\n",
       "      <td>2129</td>\n",
       "      <td>2003</td>\n",
       "      <td>3662</td>\n",
       "      <td>2661</td>\n",
       "      <td>...</td>\n",
       "      <td>1536</td>\n",
       "      <td>3372</td>\n",
       "      <td>3604</td>\n",
       "      <td>2478</td>\n",
       "      <td>7512</td>\n",
       "      <td>5510</td>\n",
       "      <td>5747</td>\n",
       "      <td>24</td>\n",
       "      <td>5</td>\n",
       "      <td>2</td>\n",
       "    </tr>\n",
       "  </tbody>\n",
       "</table>\n",
       "<p>1 rows × 22 columns</p>\n",
       "</div>"
      ],
      "text/plain": [
       "COMMDIST      103.0  301.0  302.0  303.0  304.0  305.0  306.0  307.0  308.0  \\\n",
       "Borough Name                                                                  \n",
       "BROOKLYN          4   3514   2749   6828   3469   9854   2129   2003   3662   \n",
       "\n",
       "COMMDIST      309.0  ...  312.0  313.0  314.0  315.0  316.0  317.0  318.0  \\\n",
       "Borough Name         ...                                                    \n",
       "BROOKLYN       2661  ...   1536   3372   3604   2478   7512   5510   5747   \n",
       "\n",
       "COMMDIST      355.0  356.0  405.0  \n",
       "Borough Name                       \n",
       "BROOKLYN         24      5      2  \n",
       "\n",
       "[1 rows x 22 columns]"
      ]
     },
     "metadata": {},
     "output_type": "display_data"
    }
   ],
   "source": [
    "pt23 = df.restrict2_Brooklyn.pivot_table(index=\"Borough Name\", columns=\"COMMDIST\", values=\"ID\", aggfunc=lambda x:len(x.unique()))\n",
    "display(pt23)"
   ]
  },
  {
   "cell_type": "code",
   "execution_count": 601,
   "id": "fbc48aca-8f8f-45e4-83d7-8abab36df247",
   "metadata": {},
   "outputs": [
    {
     "data": {
      "text/plain": [
       "<matplotlib.legend.Legend at 0x1ac88239730>"
      ]
     },
     "execution_count": 601,
     "metadata": {},
     "output_type": "execute_result"
    },
    {
     "data": {
      "image/png": "[encoded data removed]",
      "text/plain": [
       "<Figure size 640x480 with 1 Axes>"
      ]
     },
     "metadata": {},
     "output_type": "display_data"
    }
   ],
   "source": [
    "ax1=pt23.plot(kind='bar', rot=0)\n",
    "plt.title(\"Volume of Domestic Violence Related Incidents in 2020 for Brooklyn by Commnunity District\")\n",
    "plt.legend(loc=(1.30,0.01))"
   ]
  },
  {
   "cell_type": "code",
   "execution_count": 602,
   "id": "8db617f8-077b-416b-bf95-3b527d8bb84d",
   "metadata": {},
   "outputs": [],
   "source": [
    "#Results: The highest number of domestic violence related incidents occurred in the Bronx followed by Brooklyn, in both 2020 and 2021. Within the Bronx, community districts 209, 212 and 204 had the highest number of incidents while in Brooklyn, they were districts 305, 316 and 303. The Bronx and Brooklyn had the largest number of community districts with a high poverty rate.There were more female victims of domestic violence related incidents than males. Among victims who reported their race, those who identified as Black experienced the highest number of domestic violence related incidents followed by those who identified as White."
   ]
  }
 ],
 "metadata": {
  "kernelspec": {
   "display_name": "Python [conda env:base] *",
   "language": "python",
   "name": "conda-base-py"
  },
  "language_info": {
   "codemirror_mode": {
    "name": "ipython",
    "version": 3
   },
   "file_extension": ".py",
   "mimetype": "text/x-python",
   "name": "python",
   "nbconvert_exporter": "python",
   "pygments_lexer": "ipython3",
   "version": "3.12.7"
  }
 },
 "nbformat": 4,
 "nbformat_minor": 5
}
