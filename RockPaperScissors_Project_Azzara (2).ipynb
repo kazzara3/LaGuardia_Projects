{
 "cells": [
  {
   "cell_type": "code",
   "execution_count": 37,
   "id": "a2f26e4e-38c1-48ab-8199-c5ce55973ba1",
   "metadata": {
    "scrolled": true
   },
   "outputs": [
    {
     "name": "stdout",
     "output_type": "stream",
     "text": [
      "Welcome to the Rock, Paper, Scissors Game!\n",
      "\n",
      "To play this game, you will need two players: Player 1 and Player 2. Each player will need to input: Rock, Paper or Scissors into their input box. Then the game will tell you who wins. Have fun!\n",
      "\n"
     ]
    },
    {
     "name": "stdin",
     "output_type": "stream",
     "text": [
      "Please enter a name for Player 1 Milo\n"
     ]
    },
    {
     "name": "stdout",
     "output_type": "stream",
     "text": [
      "Welcome Player 1: Milo!\n",
      "\n"
     ]
    },
    {
     "name": "stdin",
     "output_type": "stream",
     "text": [
      "Please enter a name for Player 2 Reggie\n"
     ]
    },
    {
     "name": "stdout",
     "output_type": "stream",
     "text": [
      "Welcome Player 2: Reggie!\n",
      "\n"
     ]
    },
    {
     "name": "stdin",
     "output_type": "stream",
     "text": [
      "Milo: Please enter one option: Rock or Paper or Scissors Rock\n"
     ]
    },
    {
     "name": "stdout",
     "output_type": "stream",
     "text": [
      "Player 1 Selection: Rock\n",
      "\n"
     ]
    },
    {
     "name": "stdin",
     "output_type": "stream",
     "text": [
      "Reggie: Please enter one option: Rock or Paper or Scissors Paper\n"
     ]
    },
    {
     "name": "stdout",
     "output_type": "stream",
     "text": [
      "Player 2 Selection: Paper\n",
      "\n",
      "['Rock Paper']\n",
      "Player 2 Wins! Congrats Reggie!\n",
      "\n",
      "Thank you so much for playing!\n",
      "Would you like to start a new game?\n"
     ]
    }
   ],
   "source": [
    "def greeting ():\n",
    "    \"\"\"This fuction displays a greeting\"\"\"\n",
    "    print(\"Welcome to the Rock, Paper, Scissors Game!\")\n",
    "    print(\"\\n\" + \"To play this game, you will need two players: Player 1 and Player 2. Each player will need to input: Rock, Paper or Scissors into their input box. Then the game will tell you who wins. Have fun!\" + \"\\n\")\n",
    "\n",
    "greeting()\n",
    "\n",
    "message = input (\"Please enter a name for Player 1\")\n",
    "print(\"Welcome Player 1: \" + message + \"!\" + \"\\n\")\n",
    "message2 = input (\"Please enter a name for Player 2\")\n",
    "print(\"Welcome Player 2: \" + message2 + \"!\" + \"\\n\")\n",
    "\n",
    "game1 = input (message + \": Please enter one option: Rock or Paper or Scissors\")\n",
    "print(\"Player 1 Selection: \" + game1 + \"\\n\")\n",
    "\n",
    "game2 = input (message2 + \": Please enter one option: Rock or Paper or Scissors\")\n",
    "print(\"Player 2 Selection: \" + game2 + \"\\n\")\n",
    "\n",
    "round1 = [game1.title() + \" \"+ game2.title()]\n",
    "print(round1)\n",
    "\n",
    "for round in round1:\n",
    "    if round == \"Rock Rock\":\n",
    "        print(\"Tie!\")\n",
    "    elif round == \"Paper Paper\":\n",
    "        print(\"Tie!\")\n",
    "    elif round == \"Scissors Scissors\":\n",
    "        print(\"Tie!\")\n",
    "    elif round == \"Rock Scissors\":\n",
    "        print(\"Player 1 Wins! Congrats \" + message + \"!\")\n",
    "    elif round == \"Scissors Rock\":\n",
    "        print(\"Player 2 Wins! Congrats \" + message2 + \"!\")\n",
    "    elif round == \"Scissors Paper\":\n",
    "        print(\"Player 1 Wins! Congrats \" + message + \"!\")\n",
    "    elif round == \"Paper Scissors\":\n",
    "        print(\"Player 2 Wins! Congrats \" + message2 + \"!\")\n",
    "    elif round == \"Paper Rock\":\n",
    "        print(\"Player 1 Wins! Congrats \" + message + \"!\")\n",
    "    elif round == \"Rock Paper\":\n",
    "        print(\"Player 2 Wins! Congrats \" + message2 + \"!\")\n",
    "    else:\n",
    "        print(\"Invalid option entered. Please enter: Rock, Paper or Scissors only\")\n",
    "\n",
    "def end ():\n",
    "    print(\"\\n\" + \"Thank you so much for playing!\")\n",
    "    print(\"Would you like to start a new game?\")\n",
    "\n",
    "end()"
   ]
  },
  {
   "cell_type": "code",
   "execution_count": null,
   "id": "9a382fbd-14ce-42c7-b881-ebc5febbb804",
   "metadata": {},
   "outputs": [],
   "source": []
  }
 ],
 "metadata": {
  "kernelspec": {
   "display_name": "Python [conda env:base] *",
   "language": "python",
   "name": "conda-base-py"
  },
  "language_info": {
   "codemirror_mode": {
    "name": "ipython",
    "version": 3
   },
   "file_extension": ".py",
   "mimetype": "text/x-python",
   "name": "python",
   "nbconvert_exporter": "python",
   "pygments_lexer": "ipython3",
   "version": "3.12.7"
  }
 },
 "nbformat": 4,
 "nbformat_minor": 5
}
